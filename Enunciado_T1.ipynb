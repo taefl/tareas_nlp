{
 "cells": [
  {
   "cell_type": "markdown",
   "id": "1c2e1b2e",
   "metadata": {},
   "source": [
    "Pontificia Universidad Católica de Chile <br>\n",
    "Departamento de Ciencia de la Computación <br>\n",
    "IIC3670 -\tProcesamiento de Lenguaje Natural<br>\n",
    "Segundo Semestre 2025<br>\n",
    "\n",
    "\n",
    "<h1><center>Tarea 1</center></h1>\n",
    "        Profesor: Marcelo Mendoza<br>\n",
    "        Fecha de entrega: 10 de Septiembre\n",
    "\n",
    "\n",
    "---"
   ]
  },
  {
   "cell_type": "markdown",
   "id": "93ca5f2a",
   "metadata": {},
   "source": [
    "## Indicaciones\n",
    "\n",
    "Deberás entregar **SOLO** el archivo .ipynb en el buzón respectivo en canvas.\n",
    "\n",
    "**IMPORTANTE**:\n",
    "- Se te dará puntaje tanto por código como por la manera en la que respondas las preguntas planteadas.\n",
    "- El notebook debe tener todas las celdas de código ejecutadas.\n",
    "- Cualquier instancia de copia resultará en un 1,1 como nota de curso.\n",
    "\n",
    "---"
   ]
  },
  {
   "cell_type": "markdown",
   "id": "1d9308a6",
   "metadata": {},
   "source": [
    "## **Integrantes**:\n",
    "* Integrante1:\n",
    "  \n",
    "* Integrante2:"
   ]
  },
  {
   "cell_type": "markdown",
   "id": "681414a1",
   "metadata": {},
   "source": [
    "## Librerias"
   ]
  },
  {
   "cell_type": "code",
   "execution_count": null,
   "id": "08121257",
   "metadata": {},
   "outputs": [],
   "source": [
    "#AQUI importa las librerias extras que vayas a ocupar\n",
    "#TODO"
   ]
  },
  {
   "cell_type": "markdown",
   "id": "c38410d1",
   "metadata": {},
   "source": [
    "### Referencias de los Datasets\n",
    "\n",
    "De todas formas, los csv se encontrarán disponibles en Canvas\n",
    "\n",
    "* El dataset a utilizar para la parte 2 fue extraído de: https://www.kaggle.com/datasets/luisdiegofv97/imdb-dataset-of-50k-movie-reviews-spanish\n",
    "\n",
    "* El dataset a utilizar para la parte 3 fue extraído de: https://huggingface.co/datasets/mltrev23/financial-sentiment-analysis/blob/main/archive.zip"
   ]
  },
  {
   "cell_type": "markdown",
   "id": "b7a4a504",
   "metadata": {},
   "source": [
    "# Parte 1: NELA Features (15 puntos)"
   ]
  },
  {
   "cell_type": "markdown",
   "id": "82c86cb2",
   "metadata": {},
   "source": [
    "Usa 'fetch_20newsgroups' para obtener los datos a utilizar tanto de train como de test"
   ]
  },
  {
   "cell_type": "markdown",
   "id": "7baa93e7",
   "metadata": {},
   "source": [
    "**RESPUESTA**:"
   ]
  },
  {
   "cell_type": "code",
   "execution_count": null,
   "id": "cac1eb24",
   "metadata": {},
   "outputs": [],
   "source": []
  },
  {
   "cell_type": "markdown",
   "id": "f1fc63f5",
   "metadata": {},
   "source": [
    "### 1.1 Análisis descriptivo (5 puntos)"
   ]
  },
  {
   "cell_type": "markdown",
   "id": "170fca40",
   "metadata": {},
   "source": [
    "Realiza el preprocesamiento de datos (hint: STOPWORDS, Tokenizer, Lemmatizer etc. Utilice lo que crea que es mejor para su modelo). "
   ]
  },
  {
   "cell_type": "code",
   "execution_count": null,
   "id": "0016a7d9",
   "metadata": {},
   "outputs": [],
   "source": []
  },
  {
   "cell_type": "markdown",
   "id": "65199c17",
   "metadata": {},
   "source": [
    "Cree una nube de palabras utilizando el dataset de entrenamiento (una vez tokenizado). Haga uno para el primer elemento del dataset y otro para todos los elementos del dataset. Les puede servir: https://www.kaggle.com/code/anandhuh/word-cloud-in-python-for-beginners"
   ]
  },
  {
   "cell_type": "markdown",
   "id": "e935df93",
   "metadata": {},
   "source": [
    "RESPUESTA:"
   ]
  },
  {
   "cell_type": "markdown",
   "id": "325f2802",
   "metadata": {},
   "source": [
    "Muestra para el primer documento del df de entrenamiento limpiado previamente"
   ]
  },
  {
   "cell_type": "code",
   "execution_count": null,
   "id": "9ab21f86",
   "metadata": {},
   "outputs": [],
   "source": []
  },
  {
   "cell_type": "code",
   "execution_count": null,
   "id": "6f1ce156",
   "metadata": {},
   "outputs": [],
   "source": []
  },
  {
   "cell_type": "markdown",
   "id": "2f420cef",
   "metadata": {},
   "source": [
    "Visualiza los 10 bigramas más comunes del corpus"
   ]
  },
  {
   "cell_type": "markdown",
   "id": "9f5a610f",
   "metadata": {},
   "source": [
    "**RESPUESTA**:"
   ]
  },
  {
   "cell_type": "code",
   "execution_count": null,
   "id": "53627b0e",
   "metadata": {},
   "outputs": [],
   "source": []
  },
  {
   "cell_type": "markdown",
   "id": "61de4bb7",
   "metadata": {},
   "source": [
    "¿Qué bigramas y palabras son más comunes en el corpus? ¿Aparece algo raro? HINT: Pueden aparecer elementos que parecieran palabras pero no lo son"
   ]
  },
  {
   "cell_type": "markdown",
   "id": "e2bf1c05",
   "metadata": {},
   "source": [
    "**RESPUESTA**:"
   ]
  },
  {
   "cell_type": "markdown",
   "id": "07664d72",
   "metadata": {},
   "source": []
  },
  {
   "cell_type": "markdown",
   "id": "5caaa26f",
   "metadata": {},
   "source": [
    "Explique para que se utiliza Lemmatizer, tokenizer y stopwords."
   ]
  },
  {
   "cell_type": "markdown",
   "id": "ab7d9f0c",
   "metadata": {},
   "source": [
    "**RESPUESTA**:"
   ]
  },
  {
   "cell_type": "markdown",
   "id": "cd396e98",
   "metadata": {},
   "source": []
  },
  {
   "cell_type": "markdown",
   "id": "29926bc6",
   "metadata": {},
   "source": [
    "## 1.2 Nela Features (5 puntos)"
   ]
  },
  {
   "cell_type": "markdown",
   "id": "fcca5853",
   "metadata": {},
   "source": [
    "Extraiga características utilizando NELA. Basta con que ocupe una de las características y NO puede utilizar extract_styles. Hint: Recordar que si largo del documento es 0, entonces debe generar un vector del tamaño de las características que vaya a utilizar. "
   ]
  },
  {
   "cell_type": "markdown",
   "id": "26cc68f3",
   "metadata": {},
   "source": [
    "EJEMPLO: Cuando se utilizaba nela.extract_style se extraen 50 features y por lo tanto se tienen vectores de tamaño 50. Si el largo del documento es 0, no se puede extraer las características (porque no hay documento) y por lo tanto se debe generar un vector del mismo tamaño (50 en este caso) rellenado de 0. Este vector lo pueden llamar como 'vector cero' o 'vector nulo'."
   ]
  },
  {
   "cell_type": "markdown",
   "id": "c8c3e68a",
   "metadata": {},
   "source": [
    "**RESPUESTA**:"
   ]
  },
  {
   "cell_type": "code",
   "execution_count": null,
   "id": "dd078adc",
   "metadata": {},
   "outputs": [],
   "source": []
  },
  {
   "cell_type": "markdown",
   "id": "3efe8a27",
   "metadata": {},
   "source": [
    "Utilizar modelo de la AF2: MultinomialNB. Recuerde que se transforma a np.array"
   ]
  },
  {
   "cell_type": "markdown",
   "id": "b934bbd5",
   "metadata": {},
   "source": [
    "**RESPUESTA**:"
   ]
  },
  {
   "cell_type": "code",
   "execution_count": null,
   "id": "bce12fe1",
   "metadata": {},
   "outputs": [],
   "source": []
  },
  {
   "cell_type": "markdown",
   "id": "e2f67d48",
   "metadata": {},
   "source": [
    "Utilice la matriz de confusión para evaluar el rendimiento del modelo. Es una buena forma de visualizar el desempeño"
   ]
  },
  {
   "cell_type": "markdown",
   "id": "887e677d",
   "metadata": {},
   "source": [
    "**RESPUESTA**:\n"
   ]
  },
  {
   "cell_type": "code",
   "execution_count": null,
   "id": "48610a22",
   "metadata": {},
   "outputs": [],
   "source": []
  },
  {
   "cell_type": "markdown",
   "id": "93100f3d",
   "metadata": {},
   "source": [
    "¿Qué ocurre con el modelo? ¿Funciona bien o mal? ¿Qué está tratando de hacer con los datos y cuál es su objetivo? Fundamente"
   ]
  },
  {
   "cell_type": "markdown",
   "id": "daac4795",
   "metadata": {},
   "source": [
    "**RESPUESTA**:"
   ]
  },
  {
   "cell_type": "markdown",
   "id": "7b10093a",
   "metadata": {},
   "source": []
  },
  {
   "cell_type": "markdown",
   "id": "14b18110",
   "metadata": {},
   "source": [
    "¿Cómo se compara con el resultado obtenido en la AF2? (puede revisar el github, donde se encontrarán las soluciones de las actividades formativas)"
   ]
  },
  {
   "cell_type": "markdown",
   "id": "d60809f6",
   "metadata": {},
   "source": [
    "**RESPUESTA**:"
   ]
  },
  {
   "cell_type": "markdown",
   "id": "1b8e2582",
   "metadata": {},
   "source": []
  },
  {
   "cell_type": "markdown",
   "id": "2e39d2de",
   "metadata": {},
   "source": [
    "¿Qué se podría realizar para mejorar la precisión del modelo?"
   ]
  },
  {
   "cell_type": "markdown",
   "id": "8f7abe49",
   "metadata": {},
   "source": [
    "**RESPUESTA**:"
   ]
  },
  {
   "cell_type": "markdown",
   "id": "54ccafd6",
   "metadata": {},
   "source": []
  },
  {
   "cell_type": "markdown",
   "id": "77924556",
   "metadata": {},
   "source": [
    "## 1.3: TF-IDF (5 puntos)"
   ]
  },
  {
   "cell_type": "markdown",
   "id": "0b1e9cd1",
   "metadata": {},
   "source": [
    "Dado que es posible que haya malos resultados, se probará otra forma de entrenar y clasificar estos textos. Utilice un modelo TF-IDF para representar los documentos"
   ]
  },
  {
   "cell_type": "markdown",
   "id": "bf7c2641",
   "metadata": {},
   "source": [
    "Separe la data en X_train, y_train, X_test e y_test"
   ]
  },
  {
   "cell_type": "markdown",
   "id": "6a0fa815",
   "metadata": {},
   "source": [
    "**RESPUESTA**:"
   ]
  },
  {
   "cell_type": "code",
   "execution_count": null,
   "id": "99363fcd",
   "metadata": {},
   "outputs": [],
   "source": []
  },
  {
   "cell_type": "markdown",
   "id": "ccdf9592",
   "metadata": {},
   "source": [
    "Utilice TfidfVectorizer para transformar los textos en vectores TF-IDF."
   ]
  },
  {
   "cell_type": "markdown",
   "id": "9fb1b3ba",
   "metadata": {},
   "source": [
    "**RESPUESTA**:"
   ]
  },
  {
   "cell_type": "code",
   "execution_count": null,
   "id": "ab68f402",
   "metadata": {},
   "outputs": [],
   "source": []
  },
  {
   "cell_type": "markdown",
   "id": "28179d3c",
   "metadata": {},
   "source": [
    "Utilice la librería make_pipeline de sklearn que incluye el TfidfVectorizer y el clasificador que desee utilizar (por ejemplo, SGDClassifier o LogisticRegression).\n"
   ]
  },
  {
   "cell_type": "markdown",
   "id": "df8f16f9",
   "metadata": {},
   "source": [
    "**RESPUESTA**:"
   ]
  },
  {
   "cell_type": "code",
   "execution_count": null,
   "id": "a8ddaa33",
   "metadata": {},
   "outputs": [],
   "source": []
  },
  {
   "cell_type": "markdown",
   "id": "28bd84f2",
   "metadata": {},
   "source": [
    "¿Por qué cambió los resultados? "
   ]
  },
  {
   "cell_type": "markdown",
   "id": "0016b76d",
   "metadata": {},
   "source": [
    "**RESPUESTA**:"
   ]
  },
  {
   "cell_type": "markdown",
   "id": "31c13a28",
   "metadata": {},
   "source": []
  },
  {
   "cell_type": "markdown",
   "id": "5ecd432e",
   "metadata": {},
   "source": [
    "# Parte 2: Word2Vec (20 puntos)"
   ]
  },
  {
   "cell_type": "markdown",
   "id": "9277db22",
   "metadata": {},
   "source": [
    "### 2.1 Teóricas (5 puntos)"
   ]
  },
  {
   "cell_type": "markdown",
   "id": "80f49699",
   "metadata": {},
   "source": [
    "Para resolver las preguntas deberá utilizar la siguiente página: https://projector.tensorflow.org"
   ]
  },
  {
   "cell_type": "markdown",
   "id": "14b5eb1e",
   "metadata": {},
   "source": [
    "En la página entregada anteriormente, use el tensor 'Word2Vec 10k', busque la palabra 'learning' con 20 vecinos y anote las 3 palabras más parecidas y las 3 más alejadas, dejando claramente a que categoría pertenece y dejando los valores correspondiente al usar la distancia del coseno. Para la reducción de dimensionalidad, mantenga el uso de PCA."
   ]
  },
  {
   "cell_type": "markdown",
   "id": "91eca798",
   "metadata": {},
   "source": [
    "**RESPUESTA**:"
   ]
  },
  {
   "cell_type": "markdown",
   "id": "27e054a1",
   "metadata": {},
   "source": []
  },
  {
   "cell_type": "markdown",
   "id": "aefa7abe",
   "metadata": {},
   "source": [
    "¿Qué mide la distancia del coseno y que relación hay con la similitud del coseno?"
   ]
  },
  {
   "cell_type": "markdown",
   "id": "2699b7a4",
   "metadata": {},
   "source": [
    "**RESPUESTA**:"
   ]
  },
  {
   "cell_type": "markdown",
   "id": "83bc8a5c",
   "metadata": {},
   "source": []
  },
  {
   "cell_type": "markdown",
   "id": "7ff39e0f",
   "metadata": {},
   "source": [
    "Explique la relación de los valores obtenidos anteriormente con las palabras encontradas"
   ]
  },
  {
   "cell_type": "markdown",
   "id": "1b9f309f",
   "metadata": {},
   "source": [
    "**RESPUESTA**:"
   ]
  },
  {
   "cell_type": "markdown",
   "id": "a641d881",
   "metadata": {},
   "source": []
  },
  {
   "cell_type": "markdown",
   "id": "d2059a7c",
   "metadata": {},
   "source": [
    "## 2.2 Análisis de Dataset (5 puntos)"
   ]
  },
  {
   "cell_type": "markdown",
   "id": "4a1c6051",
   "metadata": {},
   "source": [
    "El archivo de canvas (Dataset) proviene de: https://www.kaggle.com/datasets/luisdiegofv97/imdb-dataset-of-50k-movie-reviews-spanish"
   ]
  },
  {
   "cell_type": "markdown",
   "id": "a85f504f",
   "metadata": {},
   "source": [
    "¿Qué contiene el dataset?"
   ]
  },
  {
   "cell_type": "markdown",
   "id": "76eac6bc",
   "metadata": {},
   "source": [
    "**RESPUESTA**:"
   ]
  },
  {
   "cell_type": "code",
   "execution_count": null,
   "id": "07efd915",
   "metadata": {},
   "outputs": [],
   "source": []
  },
  {
   "cell_type": "markdown",
   "id": "e904eb53",
   "metadata": {},
   "source": []
  },
  {
   "cell_type": "markdown",
   "id": "20fcf191",
   "metadata": {},
   "source": [
    "¿Cuántas filas tiene el dataset?"
   ]
  },
  {
   "cell_type": "markdown",
   "id": "fb7a48e7",
   "metadata": {},
   "source": [
    "**RESPUESTA**:"
   ]
  },
  {
   "cell_type": "code",
   "execution_count": null,
   "id": "162fb028",
   "metadata": {},
   "outputs": [],
   "source": []
  },
  {
   "cell_type": "markdown",
   "id": "ccbbddc0",
   "metadata": {},
   "source": [
    "Vea la distribución del número de palabras mediante un gráfico"
   ]
  },
  {
   "cell_type": "markdown",
   "id": "fd4a1b42",
   "metadata": {},
   "source": [
    "**RESPUESTA**:"
   ]
  },
  {
   "cell_type": "code",
   "execution_count": null,
   "id": "62abba0c",
   "metadata": {},
   "outputs": [],
   "source": []
  },
  {
   "cell_type": "markdown",
   "id": "c3518b94",
   "metadata": {},
   "source": [
    "Crea una nube de palabras para el dataset mostrando las palabras más frecuentes en el texto. Primero utilice para el corpus la concatenación de todos los textos de la columna \"review_es\" y luego realice tokenización y genere otra nube de palabras."
   ]
  },
  {
   "cell_type": "markdown",
   "id": "ae3f382a",
   "metadata": {},
   "source": [
    "**RESPUESTA**:"
   ]
  },
  {
   "cell_type": "code",
   "execution_count": null,
   "id": "1c807b11",
   "metadata": {},
   "outputs": [],
   "source": []
  },
  {
   "cell_type": "markdown",
   "id": "f1b7fc29",
   "metadata": {},
   "source": [
    "## 2.3 Transformación a Embeddings (5 puntos)"
   ]
  },
  {
   "cell_type": "markdown",
   "id": "20046526",
   "metadata": {},
   "source": [
    "Transforme los reviews en español a vectores (embeddings)"
   ]
  },
  {
   "cell_type": "markdown",
   "id": "2fba825a",
   "metadata": {},
   "source": [
    "**RESPUESTA**:"
   ]
  },
  {
   "cell_type": "code",
   "execution_count": null,
   "id": "3aee2e09",
   "metadata": {},
   "outputs": [],
   "source": []
  },
  {
   "cell_type": "markdown",
   "id": "77eba0f1",
   "metadata": {},
   "source": [
    "## 2.4 Generación de gráficos (5 puntos)"
   ]
  },
  {
   "cell_type": "markdown",
   "id": "17549ac4",
   "metadata": {},
   "source": [
    "Utilice PCA con 3 componentes sobre los embeddings"
   ]
  },
  {
   "cell_type": "markdown",
   "id": "c1a96f71",
   "metadata": {},
   "source": [
    "**RESPUESTA**:"
   ]
  },
  {
   "cell_type": "markdown",
   "id": "f1c69e5d",
   "metadata": {},
   "source": []
  },
  {
   "cell_type": "markdown",
   "id": "893a95f0",
   "metadata": {},
   "source": [
    "Realizando lo anterior, se podría considerar como puntos en 3D y nos permite visualizar en el espacio. Realice una visualización de los puntos en 3D, coloreando cada clase."
   ]
  },
  {
   "cell_type": "markdown",
   "id": "11f69477",
   "metadata": {},
   "source": [
    "**RESPUESTA**:"
   ]
  },
  {
   "cell_type": "markdown",
   "id": "d06e9124",
   "metadata": {},
   "source": []
  },
  {
   "cell_type": "markdown",
   "id": "c9a7959a",
   "metadata": {},
   "source": [
    "Utilice t-SNE y vuelva realizar el gráfico"
   ]
  },
  {
   "cell_type": "markdown",
   "id": "2e89b006",
   "metadata": {},
   "source": [
    "**RESPUESTA**:"
   ]
  },
  {
   "cell_type": "markdown",
   "id": "6814fe3c",
   "metadata": {},
   "source": []
  },
  {
   "cell_type": "markdown",
   "id": "9c2de7a4",
   "metadata": {},
   "source": [
    "¿Qué se puede concluir con las visualizaciones realizadas por las dos reducciones de dimensionalidad? "
   ]
  },
  {
   "cell_type": "markdown",
   "id": "2dc09647",
   "metadata": {},
   "source": [
    "**RESPUESTA**:"
   ]
  },
  {
   "cell_type": "markdown",
   "id": "546c1b8b",
   "metadata": {},
   "source": []
  },
  {
   "cell_type": "markdown",
   "id": "4d5c41af",
   "metadata": {},
   "source": [
    "¿Qué limitaciones tiene utilizar reducción de dimensionalidad en los embeddings? ¿Los usaría para entrenar?"
   ]
  },
  {
   "cell_type": "markdown",
   "id": "769782ae",
   "metadata": {},
   "source": [
    "**RESPUESTA**:"
   ]
  },
  {
   "cell_type": "markdown",
   "id": "30f9a046",
   "metadata": {},
   "source": []
  },
  {
   "cell_type": "markdown",
   "id": "b04072e9",
   "metadata": {},
   "source": [
    "# Parte 3: Análisis de Sentimiento (25 puntos)"
   ]
  },
  {
   "cell_type": "markdown",
   "id": "4db8a8bf",
   "metadata": {},
   "source": [
    "### Parte 3.1: Pruebas de Análisis de Sentimiento (4 puntos)"
   ]
  },
  {
   "cell_type": "markdown",
   "id": "90bb7059",
   "metadata": {},
   "source": [
    "Usar la librería de Textblob para la actividad."
   ]
  },
  {
   "cell_type": "markdown",
   "id": "6f3bfd58",
   "metadata": {},
   "source": [
    "Cargue el dataset proveniente de: https://huggingface.co/datasets/mltrev23/financial-sentiment-analysis/blob/main/archive.zip"
   ]
  },
  {
   "cell_type": "markdown",
   "id": "778a214c",
   "metadata": {},
   "source": [
    "**RESPUESTA**:"
   ]
  },
  {
   "cell_type": "code",
   "execution_count": null,
   "id": "46f8cce6",
   "metadata": {},
   "outputs": [],
   "source": []
  },
  {
   "cell_type": "markdown",
   "id": "3a84b53f",
   "metadata": {},
   "source": [
    "Escoja dos documentos y utilice TextBlob sobre ellos.\n",
    "Métodos a utilizar: tags, sentiment, polarity, subjectivity y words"
   ]
  },
  {
   "cell_type": "markdown",
   "id": "b48795d6",
   "metadata": {},
   "source": [
    "**RESPUESTA**:"
   ]
  },
  {
   "cell_type": "code",
   "execution_count": null,
   "id": "15dcf329",
   "metadata": {},
   "outputs": [],
   "source": []
  },
  {
   "cell_type": "markdown",
   "id": "99d023db",
   "metadata": {},
   "source": [
    "¿Qué es lo que señala TextBlob en los documentos seleccionados? ¿Funciona correctamente? Justifique. Hint: Para ver si funciona correctamente compare los resultados obtenidos con los labels del dataset y si la Sentence es acorde a los resultados obtenidos"
   ]
  },
  {
   "cell_type": "markdown",
   "id": "ed6a1f03",
   "metadata": {},
   "source": [
    "**RESPUESTA**:"
   ]
  },
  {
   "cell_type": "markdown",
   "id": "c56e226b",
   "metadata": {},
   "source": []
  },
  {
   "cell_type": "markdown",
   "id": "4836af46",
   "metadata": {},
   "source": [
    "Pruebe utilizando TextBlob con la frase de Beneditti ‘De qué sirve querer olvidar, a veces simplemente se trata de aprender a vivir con eso’. Luego pruebe la segunda frase 'La vida es una lucha constante'. Justifique los resultados."
   ]
  },
  {
   "cell_type": "markdown",
   "id": "304e713b",
   "metadata": {},
   "source": [
    "**RESPUESTA**:"
   ]
  },
  {
   "cell_type": "code",
   "execution_count": null,
   "id": "78eb016a",
   "metadata": {},
   "outputs": [],
   "source": []
  },
  {
   "cell_type": "code",
   "execution_count": null,
   "id": "0bb24feb",
   "metadata": {},
   "outputs": [],
   "source": []
  },
  {
   "cell_type": "markdown",
   "id": "005b20df",
   "metadata": {},
   "source": []
  },
  {
   "cell_type": "markdown",
   "id": "d02ad8cd",
   "metadata": {},
   "source": [
    "¿Qué haría usted para mejorar la clasificación de análisis de sentimiento para el idioma Español pero dando prioridad a como hablamos los chilenos?"
   ]
  },
  {
   "cell_type": "markdown",
   "id": "cf88804d",
   "metadata": {},
   "source": [
    "**RESPUESTA**:"
   ]
  },
  {
   "cell_type": "markdown",
   "id": "80989f8d",
   "metadata": {},
   "source": []
  },
  {
   "cell_type": "markdown",
   "id": "e0061609",
   "metadata": {},
   "source": [
    "¿Podría haber problemas al realizar el análisis de sentimiento para un español generalizado y en particular con insultos? Explique"
   ]
  },
  {
   "cell_type": "markdown",
   "id": "fcf523a1",
   "metadata": {},
   "source": [
    "**RESPUESTA**:"
   ]
  },
  {
   "cell_type": "markdown",
   "id": "186efa3d",
   "metadata": {},
   "source": []
  },
  {
   "cell_type": "markdown",
   "id": "e65adaf1",
   "metadata": {},
   "source": [
    "#### Lectura Opcional: Hay una librería llamada `vaderSentiment` que puede ser útil para el análisis de sentimientos. Además hay otro paquete que permite analizar el sentimiento en varios idiomas llamado `vader-multi`.\n",
    "https://github.com/brunneis/vader-multi"
   ]
  },
  {
   "cell_type": "markdown",
   "id": "7ee5bc68",
   "metadata": {},
   "source": [
    "### Parte 3.2: Clasificación de análisis de sentimiento con Word2Vec (9 puntos)"
   ]
  },
  {
   "cell_type": "markdown",
   "id": "5fd03630",
   "metadata": {},
   "source": [
    "Haga un procesamiento de los datos (Sentences)"
   ]
  },
  {
   "cell_type": "markdown",
   "id": "2915f7ea",
   "metadata": {},
   "source": [
    "**RESPUESTA**:"
   ]
  },
  {
   "cell_type": "code",
   "execution_count": null,
   "id": "8dd6f58c",
   "metadata": {},
   "outputs": [],
   "source": []
  },
  {
   "cell_type": "markdown",
   "id": "7136dc99",
   "metadata": {},
   "source": [
    "Guarde los labels en una variable y"
   ]
  },
  {
   "cell_type": "markdown",
   "id": "2f8164ac",
   "metadata": {},
   "source": [
    "**RESPUESTA**:"
   ]
  },
  {
   "cell_type": "code",
   "execution_count": null,
   "id": "52abd14d",
   "metadata": {},
   "outputs": [],
   "source": []
  },
  {
   "cell_type": "markdown",
   "id": "5706a1d8",
   "metadata": {},
   "source": [
    "Transforme el texto a embeddings. Probablemente necesites tener vectores de tamaño fijo, así que considera usar un enfoque como padding o truncamiento."
   ]
  },
  {
   "cell_type": "markdown",
   "id": "8e74b5c2",
   "metadata": {},
   "source": [
    "**RESPUESTA**:"
   ]
  },
  {
   "cell_type": "code",
   "execution_count": null,
   "id": "909b1898",
   "metadata": {},
   "outputs": [],
   "source": []
  },
  {
   "cell_type": "markdown",
   "id": "81147ca9",
   "metadata": {},
   "source": [
    "Divida los datos en conjuntos de entrenamiento y prueba. Además crea un array de índices para utilizar en el train_test_split. Es importante para utilizar en el LimeExplainer después."
   ]
  },
  {
   "cell_type": "markdown",
   "id": "e9981c84",
   "metadata": {},
   "source": [
    "**RESPUESTA**:"
   ]
  },
  {
   "cell_type": "code",
   "execution_count": null,
   "id": "0c9de0e0",
   "metadata": {},
   "outputs": [],
   "source": []
  },
  {
   "cell_type": "markdown",
   "id": "ccd36e54",
   "metadata": {},
   "source": [
    "Utilice el modelo (SGD  o regresión logística) para clasificar las 3 clases y muestre la matriz de confusión"
   ]
  },
  {
   "cell_type": "markdown",
   "id": "88b52c84",
   "metadata": {},
   "source": [
    "**RESPUESTA**:"
   ]
  },
  {
   "cell_type": "code",
   "execution_count": null,
   "id": "0e4ab729",
   "metadata": {},
   "outputs": [],
   "source": []
  },
  {
   "cell_type": "markdown",
   "id": "dc27f799",
   "metadata": {},
   "source": [
    "Utilice LimeTextExplainer para interpretar las predicciones de su modelo. Esto le permitirá entender qué palabras o frases están influyendo más en las decisiones del clasificador."
   ]
  },
  {
   "cell_type": "markdown",
   "id": "e7854429",
   "metadata": {},
   "source": [
    "HINT: Cree una funcion que reciba los textos, use el tokenize y agregalos en una lista. Luego utilice el modelo para predecir sobre la lista de los embeddings. LimeTextExplainer necesita una función que reciba los textos. "
   ]
  },
  {
   "cell_type": "markdown",
   "id": "23cdd861",
   "metadata": {},
   "source": [
    "**RESPUESTA**:"
   ]
  },
  {
   "cell_type": "code",
   "execution_count": null,
   "id": "79481168",
   "metadata": {},
   "outputs": [],
   "source": []
  },
  {
   "cell_type": "markdown",
   "id": "079b9f12",
   "metadata": {},
   "source": [
    "¿Los resultados fueron buenos o malos? Fundamente"
   ]
  },
  {
   "cell_type": "markdown",
   "id": "602e3bd6",
   "metadata": {},
   "source": [
    "**RESPUESTA:**"
   ]
  },
  {
   "cell_type": "markdown",
   "id": "9d6eddd7",
   "metadata": {},
   "source": []
  },
  {
   "cell_type": "markdown",
   "id": "ceced6f8",
   "metadata": {},
   "source": [
    "¿Cómo mejoraría el modelo? "
   ]
  },
  {
   "cell_type": "markdown",
   "id": "18753cb6",
   "metadata": {},
   "source": [
    "**RESPUESTA:**"
   ]
  },
  {
   "cell_type": "markdown",
   "id": "51474a75",
   "metadata": {},
   "source": []
  },
  {
   "cell_type": "markdown",
   "id": "d02bc511",
   "metadata": {},
   "source": [
    "### Parte 3.3: Clasificación de análisis de sentimiento con GloVe (12 puntos)"
   ]
  },
  {
   "cell_type": "markdown",
   "id": "7bc6fdbf",
   "metadata": {},
   "source": [
    "Muestre los modelos que contiene gensim (código de clases o formativa)"
   ]
  },
  {
   "cell_type": "markdown",
   "id": "116793cd",
   "metadata": {},
   "source": [
    "**RESPUESTA**:"
   ]
  },
  {
   "cell_type": "code",
   "execution_count": null,
   "id": "514c4263",
   "metadata": {},
   "outputs": [],
   "source": []
  },
  {
   "cell_type": "markdown",
   "id": "adddf7db",
   "metadata": {},
   "source": [
    "Cargue algunos de los modelos anteriores (ej: glove-wiki-gigaword-50)"
   ]
  },
  {
   "cell_type": "markdown",
   "id": "47d8a689",
   "metadata": {},
   "source": [
    "**RESPUESTA**:"
   ]
  },
  {
   "cell_type": "code",
   "execution_count": null,
   "id": "25552c17",
   "metadata": {},
   "outputs": [],
   "source": []
  },
  {
   "cell_type": "markdown",
   "id": "050eb6e5",
   "metadata": {},
   "source": [
    "Transforme el texto a embeddings utilizando GloVe"
   ]
  },
  {
   "cell_type": "markdown",
   "id": "40c4ab66",
   "metadata": {},
   "source": [
    "**RESPUESTA**:"
   ]
  },
  {
   "cell_type": "markdown",
   "id": "c0be3a8a",
   "metadata": {},
   "source": []
  },
  {
   "cell_type": "markdown",
   "id": "e02f9450",
   "metadata": {},
   "source": [
    "Crear un MLP que clasifique entre las 3 clases. Recordar lo utilizado para LimeText."
   ]
  },
  {
   "cell_type": "markdown",
   "id": "43c345b5",
   "metadata": {},
   "source": [
    "**RESPUESTA**:"
   ]
  },
  {
   "cell_type": "code",
   "execution_count": null,
   "id": "d7e51911",
   "metadata": {},
   "outputs": [],
   "source": []
  },
  {
   "cell_type": "markdown",
   "id": "877fad09",
   "metadata": {},
   "source": [
    "Utilice LimeTextExplainer para interpretar las predicciones de su modelo."
   ]
  },
  {
   "cell_type": "markdown",
   "id": "158a29e6",
   "metadata": {},
   "source": [
    "**RESPUESTA**:"
   ]
  },
  {
   "cell_type": "code",
   "execution_count": null,
   "id": "f91acc15",
   "metadata": {},
   "outputs": [],
   "source": []
  },
  {
   "cell_type": "markdown",
   "id": "ad1e74bb",
   "metadata": {},
   "source": [
    "¿Por qué es mejor este último clasificador? "
   ]
  },
  {
   "cell_type": "markdown",
   "id": "d4298107",
   "metadata": {},
   "source": [
    "**RESPUESTA**:"
   ]
  },
  {
   "cell_type": "markdown",
   "id": "55bdf40d",
   "metadata": {},
   "source": []
  }
 ],
 "metadata": {
  "kernelspec": {
   "display_name": "Python 3",
   "language": "python",
   "name": "python3"
  },
  "language_info": {
   "codemirror_mode": {
    "name": "ipython",
    "version": 3
   },
   "file_extension": ".py",
   "mimetype": "text/x-python",
   "name": "python",
   "nbconvert_exporter": "python",
   "pygments_lexer": "ipython3",
   "version": "3.11.9"
  }
 },
 "nbformat": 4,
 "nbformat_minor": 5
}
